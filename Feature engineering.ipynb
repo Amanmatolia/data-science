{
 "cells": [
  {
   "cell_type": "markdown",
   "id": "green-orleans",
   "metadata": {},
   "source": [
    "## Univariate Feature Selection"
   ]
  },
  {
   "cell_type": "code",
   "execution_count": 3,
   "id": "radio-racing",
   "metadata": {},
   "outputs": [
    {
     "name": "stdout",
     "output_type": "stream",
     "text": [
      "[ 111.52  1411.887   17.605   53.108 2175.565  127.669    5.393  181.304]\n"
     ]
    }
   ],
   "source": [
    "# Feature extraction with univariate statistical test (Chi-squared for classification)\n",
    "from pandas import read_csv\n",
    "from numpy import set_printoptions\n",
    "from sklearn.feature_selection import SelectKBest\n",
    "from sklearn.feature_selection import chi2\n",
    "\n",
    "# Load data\n",
    "filename = '/home/aman/Downloads/Learning/Data science/Feature engineering/pima-indians-diabetes.data.csv'\n",
    "names = ['preg', 'plas', 'pres', 'skin', 'test', 'mass', 'ped1', 'age', 'class']\n",
    "dataframe = read_csv(filename, names=names)\n",
    "array = dataframe.values\n",
    "X = array[:, 0:8]\n",
    "Y = array[:,8]\n",
    "\n",
    "# Feature extraction\n",
    "test = SelectKBest(score_func=chi2, k=4)\n",
    "fit = test.fit(X, Y)\n",
    "\n",
    "# Summarize scores\n",
    "set_printoptions(precision=3)\n",
    "print(fit.scores_)\n",
    "feature = fit.transform(X)\n",
    "\n",
    "\n",
    "# For regression f_regression, mutual_info_regression\n",
    "# For classification: chi2, f_classif, mutual_info_classif"
   ]
  },
  {
   "cell_type": "code",
   "execution_count": 4,
   "id": "integral-apache",
   "metadata": {},
   "outputs": [
    {
     "data": {
      "text/plain": [
       "['preg', 'plas', 'pres', 'skin', 'test', 'mass', 'ped1', 'age', 'class']"
      ]
     },
     "execution_count": 4,
     "metadata": {},
     "output_type": "execute_result"
    }
   ],
   "source": [
    "names"
   ]
  },
  {
   "cell_type": "markdown",
   "id": "banner-environment",
   "metadata": {},
   "source": [
    "## Recrusive feature elimination"
   ]
  },
  {
   "cell_type": "code",
   "execution_count": 9,
   "id": "rubber-hello",
   "metadata": {},
   "outputs": [
    {
     "name": "stderr",
     "output_type": "stream",
     "text": [
      "/home/aman/anaconda3/lib/python3.8/site-packages/sklearn/utils/validation.py:67: FutureWarning: Pass n_features_to_select=3 as keyword args. From version 0.25 passing these as positional arguments will result in an error\n",
      "  warnings.warn(\"Pass {} as keyword args. From version 0.25 \"\n"
     ]
    }
   ],
   "source": [
    "# Feature Extraction with RFE\n",
    "from pandas import read_csv\n",
    "from sklearn.feature_selection import RFE\n",
    "from sklearn.linear_model import LogisticRegression\n",
    "\n",
    "\n",
    "# Load data\n",
    "filename = '/home/aman/Downloads/Learning/Data science/Feature engineering/pima-indians-diabetes.data.csv'\n",
    "names = ['preg', 'plas', 'pres', 'skin', 'test', 'mass', 'ped1', 'age', 'class']\n",
    "dataframe = read_csv(filename, names=names)\n",
    "X = array[:, 0:8]\n",
    "Y = array[:,8]\n",
    "\n",
    "# Feature extraction\n",
    "model= LogisticRegression(max_iter=400)\n",
    "rfe = RFE(model, 3)\n",
    "fit = rfe.fit(X,Y)"
   ]
  },
  {
   "cell_type": "code",
   "execution_count": 10,
   "id": "compliant-anime",
   "metadata": {},
   "outputs": [
    {
     "data": {
      "text/plain": [
       "3"
      ]
     },
     "execution_count": 10,
     "metadata": {},
     "output_type": "execute_result"
    }
   ],
   "source": [
    "# NUm Features\n",
    "fit.n_features_"
   ]
  },
  {
   "cell_type": "code",
   "execution_count": 13,
   "id": "silver-garbage",
   "metadata": {},
   "outputs": [
    {
     "data": {
      "text/plain": [
       "array([ True, False, False, False, False,  True,  True, False])"
      ]
     },
     "execution_count": 13,
     "metadata": {},
     "output_type": "execute_result"
    }
   ],
   "source": [
    "# Selected Features\n",
    "fit.support_"
   ]
  },
  {
   "cell_type": "code",
   "execution_count": 14,
   "id": "careful-workshop",
   "metadata": {},
   "outputs": [
    {
     "data": {
      "text/plain": [
       "array([1, 2, 4, 6, 5, 1, 1, 3])"
      ]
     },
     "execution_count": 14,
     "metadata": {},
     "output_type": "execute_result"
    }
   ],
   "source": [
    "# Feature Ranking\n",
    "fit.ranking_"
   ]
  },
  {
   "cell_type": "code",
   "execution_count": 15,
   "id": "boring-syntax",
   "metadata": {},
   "outputs": [
    {
     "data": {
      "text/plain": [
       "['preg', 'plas', 'pres', 'skin', 'test', 'mass', 'ped1', 'age', 'class']"
      ]
     },
     "execution_count": 15,
     "metadata": {},
     "output_type": "execute_result"
    }
   ],
   "source": [
    "names"
   ]
  },
  {
   "cell_type": "markdown",
   "id": "composite-dining",
   "metadata": {},
   "source": [
    "## Feature Important using Decission Tree"
   ]
  },
  {
   "cell_type": "code",
   "execution_count": 23,
   "id": "optical-magnitude",
   "metadata": {},
   "outputs": [
    {
     "name": "stdout",
     "output_type": "stream",
     "text": [
      "[0.061 0.312 0.086 0.019 0.036 0.236 0.13  0.12 ]\n"
     ]
    }
   ],
   "source": [
    "# Feature Extraction with RFE\n",
    "from pandas import read_csv\n",
    "from sklearn.tree import DecisionTreeClassifier\n",
    "\n",
    "# Load data\n",
    "filename = '/home/aman/Downloads/Learning/Data science/Feature engineering/pima-indians-diabetes.data.csv'\n",
    "names = ['preg', 'plas', 'pres', 'skin', 'test', 'mass', 'ped1', 'age', 'class']\n",
    "dataframe = read_csv(filename, names=names)\n",
    "X = array[:, 0:8]\n",
    "Y = array[:,8]\n",
    "\n",
    "# Feature extraction\n",
    "model= DecisionTreeClassifier()\n",
    "model.fit(X,Y)\n",
    "print(model.feature_importances_)"
   ]
  }
 ],
 "metadata": {
  "kernelspec": {
   "display_name": "Python 3",
   "language": "python",
   "name": "python3"
  },
  "language_info": {
   "codemirror_mode": {
    "name": "ipython",
    "version": 3
   },
   "file_extension": ".py",
   "mimetype": "text/x-python",
   "name": "python",
   "nbconvert_exporter": "python",
   "pygments_lexer": "ipython3",
   "version": "3.8.5"
  }
 },
 "nbformat": 4,
 "nbformat_minor": 5
}
