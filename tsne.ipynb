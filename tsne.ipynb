{
 "cells": [
  {
   "cell_type": "code",
   "execution_count": 2,
   "id": "aboriginal-access",
   "metadata": {},
   "outputs": [
    {
     "name": "stdout",
     "output_type": "stream",
     "text": [
      "Collecting bioinfokit\n",
      "  Downloading bioinfokit-2.0.2.tar.gz (82 kB)\n",
      "\u001b[K     |████████████████████████████████| 82 kB 93 kB/s  eta 0:00:011\n",
      "\u001b[?25hRequirement already satisfied: pandas in ./anaconda3/lib/python3.8/site-packages (from bioinfokit) (1.2.1)\n",
      "Requirement already satisfied: numpy in ./anaconda3/lib/python3.8/site-packages (from bioinfokit) (1.19.2)\n",
      "Requirement already satisfied: matplotlib in ./anaconda3/lib/python3.8/site-packages (from bioinfokit) (3.3.2)\n",
      "Requirement already satisfied: scipy in ./anaconda3/lib/python3.8/site-packages (from bioinfokit) (1.6.0)\n",
      "Requirement already satisfied: scikit-learn in ./anaconda3/lib/python3.8/site-packages (from bioinfokit) (0.23.2)\n",
      "Requirement already satisfied: seaborn in ./anaconda3/lib/python3.8/site-packages (from bioinfokit) (0.11.1)\n",
      "Requirement already satisfied: statsmodels in ./anaconda3/lib/python3.8/site-packages (from bioinfokit) (0.12.1)\n",
      "Collecting adjustText\n",
      "  Downloading adjustText-0.7.3.tar.gz (7.5 kB)\n",
      "Requirement already satisfied: python-dateutil>=2.1 in ./anaconda3/lib/python3.8/site-packages (from matplotlib->bioinfokit) (2.8.1)\n",
      "Requirement already satisfied: certifi>=2020.06.20 in ./anaconda3/lib/python3.8/site-packages (from matplotlib->bioinfokit) (2020.12.5)\n",
      "Requirement already satisfied: pillow>=6.2.0 in ./anaconda3/lib/python3.8/site-packages (from matplotlib->bioinfokit) (8.1.0)\n",
      "Requirement already satisfied: kiwisolver>=1.0.1 in ./anaconda3/lib/python3.8/site-packages (from matplotlib->bioinfokit) (1.3.1)\n",
      "Requirement already satisfied: cycler>=0.10 in ./anaconda3/lib/python3.8/site-packages (from matplotlib->bioinfokit) (0.10.0)\n",
      "Requirement already satisfied: pyparsing!=2.0.4,!=2.1.2,!=2.1.6,>=2.0.3 in ./anaconda3/lib/python3.8/site-packages (from matplotlib->bioinfokit) (2.4.7)\n",
      "Requirement already satisfied: six in ./anaconda3/lib/python3.8/site-packages (from cycler>=0.10->matplotlib->bioinfokit) (1.15.0)\n",
      "Collecting matplotlib-venn\n",
      "  Downloading matplotlib-venn-0.11.6.tar.gz (29 kB)\n",
      "Requirement already satisfied: pytz>=2017.3 in ./anaconda3/lib/python3.8/site-packages (from pandas->bioinfokit) (2021.1)\n",
      "Requirement already satisfied: threadpoolctl>=2.0.0 in ./anaconda3/lib/python3.8/site-packages (from scikit-learn->bioinfokit) (2.1.0)\n",
      "Requirement already satisfied: joblib>=0.11 in ./anaconda3/lib/python3.8/site-packages (from scikit-learn->bioinfokit) (1.0.0)\n",
      "Requirement already satisfied: patsy>=0.5 in ./anaconda3/lib/python3.8/site-packages (from statsmodels->bioinfokit) (0.5.1)\n",
      "Collecting tabulate\n",
      "  Downloading tabulate-0.8.9-py3-none-any.whl (25 kB)\n",
      "Collecting textwrap3\n",
      "  Downloading textwrap3-0.9.2-py2.py3-none-any.whl (12 kB)\n",
      "Building wheels for collected packages: bioinfokit, adjustText, matplotlib-venn\n",
      "  Building wheel for bioinfokit (setup.py) ... \u001b[?25ldone\n",
      "\u001b[?25h  Created wheel for bioinfokit: filename=bioinfokit-2.0.2-py3-none-any.whl size=56174 sha256=92c2442b60c93efd76f84deaefb69d21efc357819272f198b58030b128443613\n",
      "  Stored in directory: /home/aman/.cache/pip/wheels/77/6f/13/177b53f81800f43d7051cb193daec7a492474edc037ea7d20b\n",
      "  Building wheel for adjustText (setup.py) ... \u001b[?25ldone\n",
      "\u001b[?25h  Created wheel for adjustText: filename=adjustText-0.7.3-py3-none-any.whl size=7098 sha256=9ccce9b87fd09b7cf611d87b52f66b08fe16aa89061270e35e3d353e7f47bf38\n",
      "  Stored in directory: /home/aman/.cache/pip/wheels/06/b2/e0/b239bd2c0ff89b98c4f0c86a63e7059f38a8dfaf6df2641c63\n",
      "  Building wheel for matplotlib-venn (setup.py) ... \u001b[?25ldone\n",
      "\u001b[?25h  Created wheel for matplotlib-venn: filename=matplotlib_venn-0.11.6-py3-none-any.whl size=32062 sha256=3be6a658015b0f157010fa3c5a2081752e788ed6aeec810e5a93737fb0ce77d6\n",
      "  Stored in directory: /home/aman/.cache/pip/wheels/82/e4/64/dd790d424818bc2f59c11471a1eee5dc8cfcd3f8ee8c4812fa\n",
      "Successfully built bioinfokit adjustText matplotlib-venn\n",
      "Installing collected packages: textwrap3, tabulate, matplotlib-venn, adjustText, bioinfokit\n",
      "Successfully installed adjustText-0.7.3 bioinfokit-2.0.2 matplotlib-venn-0.11.6 tabulate-0.8.9 textwrap3-0.9.2\n"
     ]
    }
   ],
   "source": [
    "!pip install bioinfokit"
   ]
  },
  {
   "cell_type": "code",
   "execution_count": 4,
   "id": "gorgeous-attention",
   "metadata": {},
   "outputs": [],
   "source": [
    "from pandas import read_csv\n",
    "import pandas as pd\n",
    "\n",
    "from sklearn.manifold import TSNE\n",
    "from bioinfokit.visuz import cluster"
   ]
  },
  {
   "cell_type": "code",
   "execution_count": 5,
   "id": "conceptual-guess",
   "metadata": {},
   "outputs": [],
   "source": [
    "# load data\n",
    "filename = '/home/aman/Downloads/Data science material/tsne, psv/TSNE_data.csv'\n",
    "dataframe = pd.read_csv(filename)"
   ]
  },
  {
   "cell_type": "code",
   "execution_count": 6,
   "id": "accessible-portfolio",
   "metadata": {},
   "outputs": [],
   "source": [
    "# split out validation dataset\n",
    "array = dataframe.values\n",
    "\n",
    "# separate array into input and output components\n",
    "X= array[:,1:]\n",
    "Y= array[:,0]"
   ]
  },
  {
   "cell_type": "code",
   "execution_count": 8,
   "id": "integrated-syndicate",
   "metadata": {},
   "outputs": [
    {
     "name": "stderr",
     "output_type": "stream",
     "text": [
      "findfont: Font family ['Arial'] not found. Falling back to DejaVu Sans.\n"
     ]
    }
   ],
   "source": [
    "# TSNE Visualization\n",
    "from bioinfokit.visuz import cluster\n",
    "\n",
    "data_tsne = TSNE(n_components=2).fit_transform(X)\n",
    "cluster.tsneplot(score=data_tsne)"
   ]
  },
  {
   "cell_type": "code",
   "execution_count": 9,
   "id": "absent-boston",
   "metadata": {},
   "outputs": [],
   "source": [
    "# get a list of categories\n",
    "color_class = dataframe['diagnosis'].to_numpy()\n",
    "cluster.tsneplot(score=data_tsne, colorlist=color_class,legendpos='upper right', legendanchor=(1.15,1))\n",
    "\n",
    "# plot will be store in the default directory"
   ]
  },
  {
   "cell_type": "code",
   "execution_count": 10,
   "id": "dependent-offering",
   "metadata": {},
   "outputs": [
    {
     "data": {
      "text/plain": [
       "array([[ -8.638667 ,  41.95916  ],\n",
       "       [ -6.3763413,  43.73208  ],\n",
       "       [ -2.9134812,  40.21301  ],\n",
       "       ...,\n",
       "       [  9.943967 ,  26.833529 ],\n",
       "       [ -4.914507 ,  42.000607 ],\n",
       "       [ -3.3864923, -53.43631  ]], dtype=float32)"
      ]
     },
     "execution_count": 10,
     "metadata": {},
     "output_type": "execute_result"
    }
   ],
   "source": [
    "data_tsne"
   ]
  }
 ],
 "metadata": {
  "kernelspec": {
   "display_name": "Python 3",
   "language": "python",
   "name": "python3"
  },
  "language_info": {
   "codemirror_mode": {
    "name": "ipython",
    "version": 3
   },
   "file_extension": ".py",
   "mimetype": "text/x-python",
   "name": "python",
   "nbconvert_exporter": "python",
   "pygments_lexer": "ipython3",
   "version": "3.8.5"
  }
 },
 "nbformat": 4,
 "nbformat_minor": 5
}
